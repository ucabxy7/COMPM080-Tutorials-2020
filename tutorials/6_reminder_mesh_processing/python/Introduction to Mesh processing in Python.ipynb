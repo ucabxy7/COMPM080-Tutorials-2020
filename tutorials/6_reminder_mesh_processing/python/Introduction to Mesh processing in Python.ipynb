{
 "cells": [
  {
   "cell_type": "code",
   "execution_count": 1,
   "metadata": {},
   "outputs": [],
   "source": [
    "# Importation of libraries\n",
    "import os\n",
    "import sys\n",
    "import scipy\n",
    "import trimesh\n",
    "import numpy as np\n",
    "import open3d as o3d\n",
    "from PIL import Image\n",
    "import matplotlib as mpl\n",
    "import matplotlib.cm as cm\n",
    "from open3d import JVisualizer"
   ]
  },
  {
   "cell_type": "markdown",
   "metadata": {},
   "source": [
    "# Loading a mesh"
   ]
  },
  {
   "cell_type": "code",
   "execution_count": 2,
   "metadata": {},
   "outputs": [],
   "source": [
    "# Disable Print function\n",
    "def blockPrint():\n",
    "    sys.stdout = open(os.devnull, 'w')\n",
    "\n",
    "# Restore Print function\n",
    "def enablePrint():\n",
    "    sys.stdout = sys.__stdout__"
   ]
  },
  {
   "cell_type": "code",
   "execution_count": 3,
   "metadata": {},
   "outputs": [],
   "source": [
    "def load_obj(file_path):\n",
    "    with open(file_path, 'r') as file_:\n",
    "        lines = file_.readlines()\n",
    "    vertices = []\n",
    "    vertex_textures = []\n",
    "    face_vertices = []\n",
    "    face_textures = []\n",
    "    for line in lines:\n",
    "        if line.split(' ')[0] == 'v':\n",
    "            vertices.append(list(map(float, line.replace('\\n','').split(' ')[1:])))\n",
    "        elif line.split(' ')[0] == 'vt':\n",
    "            vertex_textures.append(list(map(float, line.replace('\\n','').split(' ')[1:])))\n",
    "        elif line.split(' ')[0] == 'f':\n",
    "            face_vertices.append(list(map(int, [elt.split('/')[0] for elt in line.replace('\\n','').split(' ')[1:] if elt])))\n",
    "            face_textures.append(list(map(int, [elt.split('/')[1] for elt in line.replace('\\n','').split(' ')[1:] if elt])))\n",
    "    vertices = np.array(vertices)\n",
    "    vertex_textures = np.array(vertex_textures)\n",
    "    face_vertex_indices = np.array(face_vertices) - 1 # Because indexing in Python starts at 0\n",
    "    face_textures = np.array(face_textures) - 1 # Because indexing in Python starts at 0\n",
    "    face_textures = np.reshape(vertex_textures[np.reshape(face_textures, [-1])], [-1, 3, 2])\n",
    "    return vertices, face_vertex_indices, face_textures"
   ]
  },
  {
   "cell_type": "code",
   "execution_count": 4,
   "metadata": {},
   "outputs": [],
   "source": [
    "def get_per_vertex_texture(face_vertex_indices, face_textures):\n",
    "    _, _, dim = face_textures.shape\n",
    "    unique_values, unique_indices = np.unique(face_vertex_indices.flatten(), return_index=True)\n",
    "    assert(np.all(unique_values == np.arange(len(unique_values))))\n",
    "    vertex_textures = np.reshape(face_textures, [-1, dim])[unique_indices]\n",
    "    return vertex_textures"
   ]
  },
  {
   "cell_type": "code",
   "execution_count": 5,
   "metadata": {},
   "outputs": [],
   "source": [
    "def show_mesh(mesh_file):\n",
    "    mesh = o3d.io.read_triangle_mesh(mesh_file)\n",
    "    mesh.compute_vertex_normals()\n",
    "    o3d.visualization.draw_geometries([mesh])"
   ]
  },
  {
   "cell_type": "code",
   "execution_count": 6,
   "metadata": {},
   "outputs": [],
   "source": [
    "# Path to the files\n",
    "path_source = 'source_data'\n",
    "path_output = 'export_data'\n",
    "if not os.path.isdir(path_output):\n",
    "    os.mkdir(path_output)\n",
    "mesh_file = os.path.join(path_source, 'mesh.obj')\n",
    "texture_file = os.path.join(path_source, 'mesh.png')\n",
    "show_mesh(mesh_file)"
   ]
  },
  {
   "cell_type": "markdown",
   "metadata": {},
   "source": [
    "<img src=\"images/screenshot1.png\">"
   ]
  },
  {
   "cell_type": "code",
   "execution_count": 7,
   "metadata": {},
   "outputs": [],
   "source": [
    "# Processing\n",
    "vertices, face_vertex_indices, face_textures = load_obj(mesh_file)\n",
    "num_points, _ = vertices.shape\n",
    "vertex_textures = get_per_vertex_texture(face_vertex_indices, face_textures)"
   ]
  },
  {
   "cell_type": "markdown",
   "metadata": {},
   "source": [
    "# Showing the euclidean distance as a vertex function on a mesh"
   ]
  },
  {
   "cell_type": "code",
   "execution_count": 8,
   "metadata": {},
   "outputs": [],
   "source": [
    "def get_euclidean_distance(vertices, index):\n",
    "    distances = np.linalg.norm(vertices - vertices[index], axis=1)\n",
    "    return distances"
   ]
  },
  {
   "cell_type": "code",
   "execution_count": 9,
   "metadata": {},
   "outputs": [],
   "source": [
    "def get_color_mapping(input_values, cmap):\n",
    "    norm = mpl.colors.Normalize(vmin=distances.min(), vmax=distances.max())\n",
    "    m = cm.ScalarMappable(norm=norm, cmap=cmap)\n",
    "    colors = m.to_rgba(input_values)\n",
    "    return colors"
   ]
  },
  {
   "cell_type": "code",
   "execution_count": 10,
   "metadata": {},
   "outputs": [],
   "source": [
    "index_point = np.random.randint(0, num_points)\n",
    "distances = get_euclidean_distance(vertices, index_point)\n",
    "vertex_colors_mesh = get_color_mapping(distances, cm.hot)\n",
    "new_mesh = trimesh.Trimesh(vertices=vertices, faces=face_vertex_indices, vertex_colors=vertex_colors_mesh)\n",
    "\n",
    "sphere = trimesh.creation.uv_sphere(radius=0.05, count=[32, 32])\n",
    "sphere.vertices = sphere.vertices + vertices[index_point]\n",
    "vertex_colors_sphere = np.zeros([sphere.vertices.shape[0], 4])\n",
    "vertex_colors_sphere[:,1] = 1\n",
    "sphere.visual.vertex_colors = vertex_colors_sphere\n",
    "new_mesh = trimesh.util.concatenate(new_mesh, sphere)\n",
    "vertex_colors = np.concatenate((vertex_colors_mesh, vertex_colors_sphere), axis=0)\n",
    "\n",
    "blockPrint()\n",
    "new_mesh.export(os.path.join(path_output,'Euclidean_distances.ply'))\n",
    "enablePrint()\n",
    "show_mesh(os.path.join(path_output,'Euclidean_distances.ply'))"
   ]
  },
  {
   "cell_type": "markdown",
   "metadata": {},
   "source": [
    "<img src=\"images/screenshot2.png\">"
   ]
  },
  {
   "cell_type": "markdown",
   "metadata": {},
   "source": [
    "# UV mapping on a mesh"
   ]
  },
  {
   "cell_type": "code",
   "execution_count": 11,
   "metadata": {},
   "outputs": [],
   "source": [
    "vertex_colors = np.concatenate((vertex_textures, np.zeros_like(vertex_textures[:,:1])), axis=1)\n",
    "new_mesh = trimesh.Trimesh(vertices=vertices, faces=face_vertex_indices, vertex_colors=vertex_colors)\n",
    "blockPrint()\n",
    "new_mesh.export(os.path.join(path_output,'UV_map.ply'))\n",
    "enablePrint()\n",
    "show_mesh(os.path.join(path_output,'UV_map.ply'))"
   ]
  },
  {
   "cell_type": "markdown",
   "metadata": {},
   "source": [
    "<img src=\"images/screenshot3.png\">"
   ]
  },
  {
   "cell_type": "markdown",
   "metadata": {},
   "source": [
    "# Showing the texture"
   ]
  },
  {
   "cell_type": "code",
   "execution_count": 12,
   "metadata": {},
   "outputs": [],
   "source": [
    "def apply_texture(face_textures, texture_file):\n",
    "    texture = np.asarray(Image.open(texture_file))\n",
    "    texture = np.flip(texture, axis=0)\n",
    "    texture = texture.transpose(1,0,2)\n",
    "\n",
    "    size_a, size_b, _ = texture.shape\n",
    "    face_textures_int = face_textures.copy()\n",
    "    face_textures_int[:,:,0] *= size_a\n",
    "    face_textures_int[:,:,1] *= size_b\n",
    "    face_textures_int = np.reshape(np.round(face_textures_int).astype(int), [-1, 2])\n",
    "    face_textures_int = np.reshape(texture[face_textures_int[:,0],face_textures_int[:,1],:], [-1, 3, 3])\n",
    "    return face_textures_int"
   ]
  },
  {
   "cell_type": "code",
   "execution_count": 13,
   "metadata": {},
   "outputs": [],
   "source": [
    "face_textures_int = apply_texture(face_textures, texture_file)\n",
    "vertex_colors = get_per_vertex_texture(face_vertex_indices, face_textures_int)"
   ]
  },
  {
   "cell_type": "code",
   "execution_count": 14,
   "metadata": {},
   "outputs": [],
   "source": [
    "new_mesh = trimesh.Trimesh(vertices=vertices, faces=face_vertex_indices, vertex_colors=vertex_colors)\n",
    "blockPrint()\n",
    "new_mesh.export(os.path.join(path_output,'Texture.ply'))\n",
    "enablePrint()\n",
    "show_mesh(os.path.join(path_output,'Texture.ply'))"
   ]
  },
  {
   "cell_type": "markdown",
   "metadata": {},
   "source": [
    "<img src=\"images/screenshot4.png\">"
   ]
  },
  {
   "cell_type": "markdown",
   "metadata": {},
   "source": [
    "# Getting the different rings (vertex neighbourhood)"
   ]
  },
  {
   "cell_type": "code",
   "execution_count": 15,
   "metadata": {},
   "outputs": [],
   "source": [
    "def get_adjacency_matrix(vertices, faces):\n",
    "    num_points, _ = vertices.shape\n",
    "    row0 = np.concatenate((faces[:,0], faces[:,0], faces[:,0]), axis=0)\n",
    "    col0 = np.concatenate((faces[:,0], faces[:,1], faces[:,2]), axis=0)\n",
    "    row1 = np.concatenate((faces[:,1], faces[:,1], faces[:,1]), axis=0)\n",
    "    col1 = np.concatenate((faces[:,0], faces[:,1], faces[:,2]), axis=0)\n",
    "    row2 = np.concatenate((faces[:,2], faces[:,2], faces[:,2]), axis=0)\n",
    "    col2 = np.concatenate((faces[:,0], faces[:,1], faces[:,2]), axis=0)\n",
    "    row = np.concatenate((row0, row1, row2), axis=0)\n",
    "    col = np.concatenate((col0, col1, col2), axis=0)\n",
    "    data = np.ones_like(row)\n",
    "    adjacency_matrix = scipy.sparse.coo_matrix((data, (row, col)), shape=(num_points, num_points))\n",
    "    return adjacency_matrix"
   ]
  },
  {
   "cell_type": "code",
   "execution_count": 16,
   "metadata": {},
   "outputs": [],
   "source": [
    "num_points, _ = vertices.shape\n",
    "adjacency_matrix = get_adjacency_matrix(vertices, face_vertex_indices)"
   ]
  },
  {
   "cell_type": "code",
   "execution_count": 17,
   "metadata": {},
   "outputs": [],
   "source": [
    "first_ring = adjacency_matrix\n",
    "second_ring = adjacency_matrix @ first_ring\n",
    "third_ring = adjacency_matrix @ second_ring"
   ]
  },
  {
   "cell_type": "code",
   "execution_count": 18,
   "metadata": {},
   "outputs": [],
   "source": [
    "scene = [new_mesh]\n",
    "index_point = np.random.randint(0, num_points)\n",
    "sphere = trimesh.creation.uv_sphere(radius=0.03, count=[32, 32])\n",
    "sphere.vertices = sphere.vertices + vertices[index_point]\n",
    "num_vertices_sphere, _ = sphere.vertices.shape\n",
    "vertex_color = np.zeros([num_vertices_sphere, 4])\n",
    "vertex_color[:,0] = 1\n",
    "sphere.visual.vertex_color = vertex_color\n",
    "scene.append(sphere)\n",
    "for index in second_ring[index_point].indices:\n",
    "    sphere = trimesh.creation.uv_sphere(radius=0.01, count=[32, 32])\n",
    "    sphere.vertices = sphere.vertices + vertices[index]\n",
    "    vertex_color = np.zeros([num_vertices_sphere, 4])\n",
    "    vertex_color[:,1] = 1\n",
    "    sphere.visual.vertex_color = vertex_color\n",
    "    scene.append(sphere)\n",
    "mesh = trimesh.util.concatenate(scene)\n",
    "blockPrint()\n",
    "mesh.export(os.path.join(path_output,'Neighbourhood.ply'))\n",
    "enablePrint()\n",
    "show_mesh(os.path.join(path_output,'Neighbourhood.ply'))"
   ]
  },
  {
   "cell_type": "markdown",
   "metadata": {},
   "source": [
    "<img src=\"images/screenshot5.png\">"
   ]
  },
  {
   "cell_type": "code",
   "execution_count": null,
   "metadata": {},
   "outputs": [],
   "source": []
  }
 ],
 "metadata": {
  "kernelspec": {
   "display_name": "Python 3",
   "language": "python",
   "name": "python3"
  },
  "language_info": {
   "codemirror_mode": {
    "name": "ipython",
    "version": 3
   },
   "file_extension": ".py",
   "mimetype": "text/x-python",
   "name": "python",
   "nbconvert_exporter": "python",
   "pygments_lexer": "ipython3",
   "version": "3.6.5"
  }
 },
 "nbformat": 4,
 "nbformat_minor": 2
}
